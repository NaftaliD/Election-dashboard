{
 "cells": [
  {
   "cell_type": "code",
   "execution_count": 1,
   "metadata": {
    "collapsed": true,
    "pycharm": {
     "name": "#%%\n"
    }
   },
   "outputs": [
    {
     "data": {
      "text/plain": "              שם ישוב  סמל ישוב  מספר קלפי  בזב  מצביעים  פסולים  כשרים  אמת  \\\n0  אבו ג'ווייעד (שבט)       967        1.0  546       64       2     62    2   \n1  אבו ג'ווייעד (שבט)       967        2.0  739      113       2    111    2   \n2  אבו ג'ווייעד (שבט)       967        3.0  630       98       1     97    1   \n3             אבו גוש       472        1.0  518      197       6    191    4   \n4             אבו גוש       472        2.0  679      290       3    287    7   \n\n   ג  דעם  ...  צק  ץ  ץז  ץי  ק  קי  קן  קף  ר  שס  \n0  0   31  ...   0  0   0   0  0   0   1   0  0   0  \n1  0   69  ...   0  0   0   0  0   2   0   0  0   0  \n2  0   75  ...   0  0   0   0  0   0   0   0  0   0  \n3  0   36  ...   0  1   0   0  1   0   0   0  0   1  \n4  0   69  ...   0  0   0   0  0   0   0   1  0   2  \n\n[5 rows x 50 columns]",
      "text/html": "<div>\n<style scoped>\n    .dataframe tbody tr th:only-of-type {\n        vertical-align: middle;\n    }\n\n    .dataframe tbody tr th {\n        vertical-align: top;\n    }\n\n    .dataframe thead th {\n        text-align: right;\n    }\n</style>\n<table border=\"1\" class=\"dataframe\">\n  <thead>\n    <tr style=\"text-align: right;\">\n      <th></th>\n      <th>שם ישוב</th>\n      <th>סמל ישוב</th>\n      <th>מספר קלפי</th>\n      <th>בזב</th>\n      <th>מצביעים</th>\n      <th>פסולים</th>\n      <th>כשרים</th>\n      <th>אמת</th>\n      <th>ג</th>\n      <th>דעם</th>\n      <th>...</th>\n      <th>צק</th>\n      <th>ץ</th>\n      <th>ץז</th>\n      <th>ץי</th>\n      <th>ק</th>\n      <th>קי</th>\n      <th>קן</th>\n      <th>קף</th>\n      <th>ר</th>\n      <th>שס</th>\n    </tr>\n  </thead>\n  <tbody>\n    <tr>\n      <th>0</th>\n      <td>אבו ג'ווייעד (שבט)</td>\n      <td>967</td>\n      <td>1.0</td>\n      <td>546</td>\n      <td>64</td>\n      <td>2</td>\n      <td>62</td>\n      <td>2</td>\n      <td>0</td>\n      <td>31</td>\n      <td>...</td>\n      <td>0</td>\n      <td>0</td>\n      <td>0</td>\n      <td>0</td>\n      <td>0</td>\n      <td>0</td>\n      <td>1</td>\n      <td>0</td>\n      <td>0</td>\n      <td>0</td>\n    </tr>\n    <tr>\n      <th>1</th>\n      <td>אבו ג'ווייעד (שבט)</td>\n      <td>967</td>\n      <td>2.0</td>\n      <td>739</td>\n      <td>113</td>\n      <td>2</td>\n      <td>111</td>\n      <td>2</td>\n      <td>0</td>\n      <td>69</td>\n      <td>...</td>\n      <td>0</td>\n      <td>0</td>\n      <td>0</td>\n      <td>0</td>\n      <td>0</td>\n      <td>2</td>\n      <td>0</td>\n      <td>0</td>\n      <td>0</td>\n      <td>0</td>\n    </tr>\n    <tr>\n      <th>2</th>\n      <td>אבו ג'ווייעד (שבט)</td>\n      <td>967</td>\n      <td>3.0</td>\n      <td>630</td>\n      <td>98</td>\n      <td>1</td>\n      <td>97</td>\n      <td>1</td>\n      <td>0</td>\n      <td>75</td>\n      <td>...</td>\n      <td>0</td>\n      <td>0</td>\n      <td>0</td>\n      <td>0</td>\n      <td>0</td>\n      <td>0</td>\n      <td>0</td>\n      <td>0</td>\n      <td>0</td>\n      <td>0</td>\n    </tr>\n    <tr>\n      <th>3</th>\n      <td>אבו גוש</td>\n      <td>472</td>\n      <td>1.0</td>\n      <td>518</td>\n      <td>197</td>\n      <td>6</td>\n      <td>191</td>\n      <td>4</td>\n      <td>0</td>\n      <td>36</td>\n      <td>...</td>\n      <td>0</td>\n      <td>1</td>\n      <td>0</td>\n      <td>0</td>\n      <td>1</td>\n      <td>0</td>\n      <td>0</td>\n      <td>0</td>\n      <td>0</td>\n      <td>1</td>\n    </tr>\n    <tr>\n      <th>4</th>\n      <td>אבו גוש</td>\n      <td>472</td>\n      <td>2.0</td>\n      <td>679</td>\n      <td>290</td>\n      <td>3</td>\n      <td>287</td>\n      <td>7</td>\n      <td>0</td>\n      <td>69</td>\n      <td>...</td>\n      <td>0</td>\n      <td>0</td>\n      <td>0</td>\n      <td>0</td>\n      <td>0</td>\n      <td>0</td>\n      <td>0</td>\n      <td>1</td>\n      <td>0</td>\n      <td>2</td>\n    </tr>\n  </tbody>\n</table>\n<p>5 rows × 50 columns</p>\n</div>"
     },
     "execution_count": 1,
     "metadata": {},
     "output_type": "execute_result"
    }
   ],
   "source": [
    "import pandas as pd\n",
    "\n",
    "\n",
    "df = pd.read_csv('data/results_21.csv',encoding='iso-8859-8') # for 21 to 24  elections\n",
    "\n",
    "# df = pd.read_csv('data/results_25.csv') # for 25 election\n",
    "\n",
    "df.head()"
   ]
  },
  {
   "cell_type": "code",
   "execution_count": 5,
   "outputs": [
    {
     "data": {
      "text/plain": "   מספר קלפי        שם ישוב כתובת  מצביעים  כשרים  אמת   ג   ד  ה  ו  ...  פכ  \\\n0       1010  מעטפות כפולות   NaN     1195   1175  183  23  12  3  7  ...   0   \n1       1020  מעטפות כפולות   NaN     1210   1192  159  15  14  1  8  ...   0   \n2       1030  מעטפות כפולות   NaN     1169   1148  153  15   2  0  5  ...   0   \n3       1040  מעטפות כפולות   NaN     1209   1190  174  13   1  0  4  ...   1   \n4       1050  מעטפות כפולות   NaN     1198   1176  163  12   8  1  9  ...   0   \n\n   פץ  ף  צה  ק  קז  קנ  קפ  רק  שס  \n0   2  1   0  0   0  58   0  38  90  \n1   3  0   0  0   1  69   1  38  94  \n2   0  0   1  1   2  51   0  39  87  \n3   1  0   1  0   0  64   0  46  65  \n4   1  0   1  1   0  55   0  44  92  \n\n[5 rows x 36 columns]",
      "text/html": "<div>\n<style scoped>\n    .dataframe tbody tr th:only-of-type {\n        vertical-align: middle;\n    }\n\n    .dataframe tbody tr th {\n        vertical-align: top;\n    }\n\n    .dataframe thead th {\n        text-align: right;\n    }\n</style>\n<table border=\"1\" class=\"dataframe\">\n  <thead>\n    <tr style=\"text-align: right;\">\n      <th></th>\n      <th>מספר קלפי</th>\n      <th>שם ישוב</th>\n      <th>כתובת</th>\n      <th>מצביעים</th>\n      <th>כשרים</th>\n      <th>אמת</th>\n      <th>ג</th>\n      <th>ד</th>\n      <th>ה</th>\n      <th>ו</th>\n      <th>...</th>\n      <th>פכ</th>\n      <th>פץ</th>\n      <th>ף</th>\n      <th>צה</th>\n      <th>ק</th>\n      <th>קז</th>\n      <th>קנ</th>\n      <th>קפ</th>\n      <th>רק</th>\n      <th>שס</th>\n    </tr>\n  </thead>\n  <tbody>\n    <tr>\n      <th>0</th>\n      <td>1010</td>\n      <td>מעטפות כפולות</td>\n      <td>NaN</td>\n      <td>1195</td>\n      <td>1175</td>\n      <td>183</td>\n      <td>23</td>\n      <td>12</td>\n      <td>3</td>\n      <td>7</td>\n      <td>...</td>\n      <td>0</td>\n      <td>2</td>\n      <td>1</td>\n      <td>0</td>\n      <td>0</td>\n      <td>0</td>\n      <td>58</td>\n      <td>0</td>\n      <td>38</td>\n      <td>90</td>\n    </tr>\n    <tr>\n      <th>1</th>\n      <td>1020</td>\n      <td>מעטפות כפולות</td>\n      <td>NaN</td>\n      <td>1210</td>\n      <td>1192</td>\n      <td>159</td>\n      <td>15</td>\n      <td>14</td>\n      <td>1</td>\n      <td>8</td>\n      <td>...</td>\n      <td>0</td>\n      <td>3</td>\n      <td>0</td>\n      <td>0</td>\n      <td>0</td>\n      <td>1</td>\n      <td>69</td>\n      <td>1</td>\n      <td>38</td>\n      <td>94</td>\n    </tr>\n    <tr>\n      <th>2</th>\n      <td>1030</td>\n      <td>מעטפות כפולות</td>\n      <td>NaN</td>\n      <td>1169</td>\n      <td>1148</td>\n      <td>153</td>\n      <td>15</td>\n      <td>2</td>\n      <td>0</td>\n      <td>5</td>\n      <td>...</td>\n      <td>0</td>\n      <td>0</td>\n      <td>0</td>\n      <td>1</td>\n      <td>1</td>\n      <td>2</td>\n      <td>51</td>\n      <td>0</td>\n      <td>39</td>\n      <td>87</td>\n    </tr>\n    <tr>\n      <th>3</th>\n      <td>1040</td>\n      <td>מעטפות כפולות</td>\n      <td>NaN</td>\n      <td>1209</td>\n      <td>1190</td>\n      <td>174</td>\n      <td>13</td>\n      <td>1</td>\n      <td>0</td>\n      <td>4</td>\n      <td>...</td>\n      <td>1</td>\n      <td>1</td>\n      <td>0</td>\n      <td>1</td>\n      <td>0</td>\n      <td>0</td>\n      <td>64</td>\n      <td>0</td>\n      <td>46</td>\n      <td>65</td>\n    </tr>\n    <tr>\n      <th>4</th>\n      <td>1050</td>\n      <td>מעטפות כפולות</td>\n      <td>NaN</td>\n      <td>1198</td>\n      <td>1176</td>\n      <td>163</td>\n      <td>12</td>\n      <td>8</td>\n      <td>1</td>\n      <td>9</td>\n      <td>...</td>\n      <td>0</td>\n      <td>1</td>\n      <td>0</td>\n      <td>1</td>\n      <td>1</td>\n      <td>0</td>\n      <td>55</td>\n      <td>0</td>\n      <td>44</td>\n      <td>92</td>\n    </tr>\n  </tbody>\n</table>\n<p>5 rows × 36 columns</p>\n</div>"
     },
     "execution_count": 5,
     "metadata": {},
     "output_type": "execute_result"
    }
   ],
   "source": [
    "\n",
    "\n",
    "df = pd.read_excel('data/results_17.xls') # for 14 to 19  elections\n",
    "df.head()"
   ],
   "metadata": {
    "collapsed": false,
    "pycharm": {
     "name": "#%%\n"
    }
   }
  }
 ],
 "metadata": {
  "kernelspec": {
   "display_name": "Python 3",
   "language": "python",
   "name": "python3"
  },
  "language_info": {
   "codemirror_mode": {
    "name": "ipython",
    "version": 2
   },
   "file_extension": ".py",
   "mimetype": "text/x-python",
   "name": "python",
   "nbconvert_exporter": "python",
   "pygments_lexer": "ipython2",
   "version": "2.7.6"
  }
 },
 "nbformat": 4,
 "nbformat_minor": 0
}