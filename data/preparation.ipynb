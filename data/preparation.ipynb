{
 "cells": [
  {
   "cell_type": "code",
   "execution_count": 117,
   "metadata": {
    "collapsed": true,
    "pycharm": {
     "name": "#%%\n"
    }
   },
   "outputs": [
    {
     "data": {
      "text/plain": "   election סמל ישוב  קלפי  שם ישוב    בזב  מצביעים  כשרים  פסולים    אמת  \\\n0        14        7   1.0      שחר  314.0    256.0  256.0     0.0  103.0   \n1        14       10   1.0    תירוש  260.0    203.0  198.0     5.0    5.0   \n2        14       11   1.0  ניר ח\"ן  229.0    148.0  146.0     2.0   47.0   \n3        14       13   1.0     חצבה  450.0    318.0  316.0     2.0  172.0   \n4        14       15   1.0     נועם  288.0    232.0  230.0     2.0    6.0   \n\n      ב  ...   כ  נר  צפ  ודעם  דעם  ום  כף  year  month  day  \n0  10.0  ... NaN NaN NaN   NaN  NaN NaN NaN  1999      5   17  \n1  74.0  ... NaN NaN NaN   NaN  NaN NaN NaN  1999      5   17  \n2   8.0  ... NaN NaN NaN   NaN  NaN NaN NaN  1999      5   17  \n3   7.0  ... NaN NaN NaN   NaN  NaN NaN NaN  1999      5   17  \n4  94.0  ... NaN NaN NaN   NaN  NaN NaN NaN  1999      5   17  \n\n[5 rows x 49 columns]",
      "text/html": "<div>\n<style scoped>\n    .dataframe tbody tr th:only-of-type {\n        vertical-align: middle;\n    }\n\n    .dataframe tbody tr th {\n        vertical-align: top;\n    }\n\n    .dataframe thead th {\n        text-align: right;\n    }\n</style>\n<table border=\"1\" class=\"dataframe\">\n  <thead>\n    <tr style=\"text-align: right;\">\n      <th></th>\n      <th>election</th>\n      <th>סמל ישוב</th>\n      <th>קלפי</th>\n      <th>שם ישוב</th>\n      <th>בזב</th>\n      <th>מצביעים</th>\n      <th>כשרים</th>\n      <th>פסולים</th>\n      <th>אמת</th>\n      <th>ב</th>\n      <th>...</th>\n      <th>כ</th>\n      <th>נר</th>\n      <th>צפ</th>\n      <th>ודעם</th>\n      <th>דעם</th>\n      <th>ום</th>\n      <th>כף</th>\n      <th>year</th>\n      <th>month</th>\n      <th>day</th>\n    </tr>\n  </thead>\n  <tbody>\n    <tr>\n      <th>0</th>\n      <td>14</td>\n      <td>7</td>\n      <td>1.0</td>\n      <td>שחר</td>\n      <td>314.0</td>\n      <td>256.0</td>\n      <td>256.0</td>\n      <td>0.0</td>\n      <td>103.0</td>\n      <td>10.0</td>\n      <td>...</td>\n      <td>NaN</td>\n      <td>NaN</td>\n      <td>NaN</td>\n      <td>NaN</td>\n      <td>NaN</td>\n      <td>NaN</td>\n      <td>NaN</td>\n      <td>1999</td>\n      <td>5</td>\n      <td>17</td>\n    </tr>\n    <tr>\n      <th>1</th>\n      <td>14</td>\n      <td>10</td>\n      <td>1.0</td>\n      <td>תירוש</td>\n      <td>260.0</td>\n      <td>203.0</td>\n      <td>198.0</td>\n      <td>5.0</td>\n      <td>5.0</td>\n      <td>74.0</td>\n      <td>...</td>\n      <td>NaN</td>\n      <td>NaN</td>\n      <td>NaN</td>\n      <td>NaN</td>\n      <td>NaN</td>\n      <td>NaN</td>\n      <td>NaN</td>\n      <td>1999</td>\n      <td>5</td>\n      <td>17</td>\n    </tr>\n    <tr>\n      <th>2</th>\n      <td>14</td>\n      <td>11</td>\n      <td>1.0</td>\n      <td>ניר ח\"ן</td>\n      <td>229.0</td>\n      <td>148.0</td>\n      <td>146.0</td>\n      <td>2.0</td>\n      <td>47.0</td>\n      <td>8.0</td>\n      <td>...</td>\n      <td>NaN</td>\n      <td>NaN</td>\n      <td>NaN</td>\n      <td>NaN</td>\n      <td>NaN</td>\n      <td>NaN</td>\n      <td>NaN</td>\n      <td>1999</td>\n      <td>5</td>\n      <td>17</td>\n    </tr>\n    <tr>\n      <th>3</th>\n      <td>14</td>\n      <td>13</td>\n      <td>1.0</td>\n      <td>חצבה</td>\n      <td>450.0</td>\n      <td>318.0</td>\n      <td>316.0</td>\n      <td>2.0</td>\n      <td>172.0</td>\n      <td>7.0</td>\n      <td>...</td>\n      <td>NaN</td>\n      <td>NaN</td>\n      <td>NaN</td>\n      <td>NaN</td>\n      <td>NaN</td>\n      <td>NaN</td>\n      <td>NaN</td>\n      <td>1999</td>\n      <td>5</td>\n      <td>17</td>\n    </tr>\n    <tr>\n      <th>4</th>\n      <td>14</td>\n      <td>15</td>\n      <td>1.0</td>\n      <td>נועם</td>\n      <td>288.0</td>\n      <td>232.0</td>\n      <td>230.0</td>\n      <td>2.0</td>\n      <td>6.0</td>\n      <td>94.0</td>\n      <td>...</td>\n      <td>NaN</td>\n      <td>NaN</td>\n      <td>NaN</td>\n      <td>NaN</td>\n      <td>NaN</td>\n      <td>NaN</td>\n      <td>NaN</td>\n      <td>1999</td>\n      <td>5</td>\n      <td>17</td>\n    </tr>\n  </tbody>\n</table>\n<p>5 rows × 49 columns</p>\n</div>"
     },
     "execution_count": 117,
     "metadata": {},
     "output_type": "execute_result"
    }
   ],
   "source": [
    "import pandas as pd\n",
    "encoding = 'iso-8859-8'\n",
    "# encoding =None\n",
    "def file_election(election):\n",
    "    name = 'results_' +str(election)\n",
    "\n",
    "    if election< 21:\n",
    "        df = pd.read_excel(name + '.xls')\n",
    "\n",
    "    if election>=21 and election<25:\n",
    "        df = pd.read_csv(name+'.csv',encoding='iso-8859-8')\n",
    "\n",
    "    if election==25:\n",
    "        df = pd.read_csv(name+'.csv')\n",
    "    df.columns = [col.strip(' ') for col in df.columns]\n",
    "    df = df.rename({'מספר קלפי':'קלפי' ,'סמל קלפי':'קלפי' ,'ב ז ב':'בזב'},axis='columns' )\n",
    "\n",
    "\n",
    "    return df\n",
    "\n",
    "files = []\n",
    "timeline = pd.read_excel('timeline.xlsx')\n",
    "for elc in range(14,26):\n",
    "    df = file_election(elc)\n",
    "    col = list(df.columns)\n",
    "    df['election'] = elc\n",
    "    files.append(df[['election']+col])\n",
    "\n",
    "df = pd.concat(files)\n",
    "df = df.merge(timeline,on='election', how='left')\n",
    "df = df.drop([\"ברזל\",\"ריכוז\",'שופט','סמל ועדה','נפה','פיצול','כתובת'],axis=1)\n",
    "\n",
    "df_groupby = df.groupby('election')[df.columns[4:-3]].sum().div(df.groupby('election')[df.columns[5]].sum(),axis=0).round(3)*100\n",
    "df = df.drop(df_groupby.sum()[(df_groupby.max()<0.9)].index,axis=1)\n",
    "\n",
    "df.head()"
   ]
  }
 ],
 "metadata": {
  "kernelspec": {
   "display_name": "Python 3",
   "language": "python",
   "name": "python3"
  },
  "language_info": {
   "codemirror_mode": {
    "name": "ipython",
    "version": 2
   },
   "file_extension": ".py",
   "mimetype": "text/x-python",
   "name": "python",
   "nbconvert_exporter": "python",
   "pygments_lexer": "ipython2",
   "version": "2.7.6"
  }
 },
 "nbformat": 4,
 "nbformat_minor": 0
}