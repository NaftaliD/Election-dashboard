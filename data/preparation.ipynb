{
 "cells": [
  {
   "cell_type": "code",
   "execution_count": 13,
   "metadata": {
    "collapsed": true,
    "pycharm": {
     "name": "#%%\n"
    }
   },
   "outputs": [
    {
     "data": {
      "text/plain": "   סמל ועדה   ברזל שם ישוב  סמל ישוב  קלפי  ריכוז  שופט  בזב  מצביעים  פסולים  \\\n0         6   3238  אבירים      1220   1.0      1     0  221      151       1   \n1         5   1788  אדירים       113   1.0      1     0  234      180       0   \n2         8   4113    אושה       278   1.0      1     0  382      276       0   \n3        17  10449   אחווה      1157   1.0      1     0  183      145       0   \n4        17  10450   איבים       338   1.0      1     0  138       40       0   \n\n   ...  קי  קך  קץ  ר  רנ  רף  רק  שס   ת  Unnamed: 50  \n0  ...   0   0   0  5   0   0   0   1   8          NaN  \n1  ...   0   0   0  2   0   0   0  61   6          NaN  \n2  ...   0   0   0  1   0   0   0   0  15          NaN  \n3  ...   0   0   0  0   0   0   0   2   8          NaN  \n4  ...   0   1   0  0   0   0   0   1   0          NaN  \n\n[5 rows x 51 columns]",
      "text/html": "<div>\n<style scoped>\n    .dataframe tbody tr th:only-of-type {\n        vertical-align: middle;\n    }\n\n    .dataframe tbody tr th {\n        vertical-align: top;\n    }\n\n    .dataframe thead th {\n        text-align: right;\n    }\n</style>\n<table border=\"1\" class=\"dataframe\">\n  <thead>\n    <tr style=\"text-align: right;\">\n      <th></th>\n      <th>סמל ועדה</th>\n      <th>ברזל</th>\n      <th>שם ישוב</th>\n      <th>סמל ישוב</th>\n      <th>קלפי</th>\n      <th>ריכוז</th>\n      <th>שופט</th>\n      <th>בזב</th>\n      <th>מצביעים</th>\n      <th>פסולים</th>\n      <th>...</th>\n      <th>קי</th>\n      <th>קך</th>\n      <th>קץ</th>\n      <th>ר</th>\n      <th>רנ</th>\n      <th>רף</th>\n      <th>רק</th>\n      <th>שס</th>\n      <th>ת</th>\n      <th>Unnamed: 50</th>\n    </tr>\n  </thead>\n  <tbody>\n    <tr>\n      <th>0</th>\n      <td>6</td>\n      <td>3238</td>\n      <td>אבירים</td>\n      <td>1220</td>\n      <td>1.0</td>\n      <td>1</td>\n      <td>0</td>\n      <td>221</td>\n      <td>151</td>\n      <td>1</td>\n      <td>...</td>\n      <td>0</td>\n      <td>0</td>\n      <td>0</td>\n      <td>5</td>\n      <td>0</td>\n      <td>0</td>\n      <td>0</td>\n      <td>1</td>\n      <td>8</td>\n      <td>NaN</td>\n    </tr>\n    <tr>\n      <th>1</th>\n      <td>5</td>\n      <td>1788</td>\n      <td>אדירים</td>\n      <td>113</td>\n      <td>1.0</td>\n      <td>1</td>\n      <td>0</td>\n      <td>234</td>\n      <td>180</td>\n      <td>0</td>\n      <td>...</td>\n      <td>0</td>\n      <td>0</td>\n      <td>0</td>\n      <td>2</td>\n      <td>0</td>\n      <td>0</td>\n      <td>0</td>\n      <td>61</td>\n      <td>6</td>\n      <td>NaN</td>\n    </tr>\n    <tr>\n      <th>2</th>\n      <td>8</td>\n      <td>4113</td>\n      <td>אושה</td>\n      <td>278</td>\n      <td>1.0</td>\n      <td>1</td>\n      <td>0</td>\n      <td>382</td>\n      <td>276</td>\n      <td>0</td>\n      <td>...</td>\n      <td>0</td>\n      <td>0</td>\n      <td>0</td>\n      <td>1</td>\n      <td>0</td>\n      <td>0</td>\n      <td>0</td>\n      <td>0</td>\n      <td>15</td>\n      <td>NaN</td>\n    </tr>\n    <tr>\n      <th>3</th>\n      <td>17</td>\n      <td>10449</td>\n      <td>אחווה</td>\n      <td>1157</td>\n      <td>1.0</td>\n      <td>1</td>\n      <td>0</td>\n      <td>183</td>\n      <td>145</td>\n      <td>0</td>\n      <td>...</td>\n      <td>0</td>\n      <td>0</td>\n      <td>0</td>\n      <td>0</td>\n      <td>0</td>\n      <td>0</td>\n      <td>0</td>\n      <td>2</td>\n      <td>8</td>\n      <td>NaN</td>\n    </tr>\n    <tr>\n      <th>4</th>\n      <td>17</td>\n      <td>10450</td>\n      <td>איבים</td>\n      <td>338</td>\n      <td>1.0</td>\n      <td>1</td>\n      <td>0</td>\n      <td>138</td>\n      <td>40</td>\n      <td>0</td>\n      <td>...</td>\n      <td>0</td>\n      <td>1</td>\n      <td>0</td>\n      <td>0</td>\n      <td>0</td>\n      <td>0</td>\n      <td>0</td>\n      <td>1</td>\n      <td>0</td>\n      <td>NaN</td>\n    </tr>\n  </tbody>\n</table>\n<p>5 rows × 51 columns</p>\n</div>"
     },
     "execution_count": 13,
     "metadata": {},
     "output_type": "execute_result"
    }
   ],
   "source": [
    "import pandas as pd\n",
    "encoding = 'iso-8859-8'\n",
    "# encoding =None\n",
    "def file_election(election):\n",
    "    name = 'results_' +str(election)\n",
    "    if election< 21:\n",
    "        df = pd.read_excel(name + '.xls')\n",
    "\n",
    "    if election>=21 and election<25:\n",
    "        df = pd.read_csv(name+'.csv',encoding='iso-8859-8')\n",
    "\n",
    "    if election==25:\n",
    "        df = pd.read_csv(name+'.csv')\n",
    "    return df\n",
    "\n",
    "\n",
    "df = file_election(24)\n",
    "df.head()"
   ]
  }
 ],
 "metadata": {
  "kernelspec": {
   "display_name": "Python 3",
   "language": "python",
   "name": "python3"
  },
  "language_info": {
   "codemirror_mode": {
    "name": "ipython",
    "version": 2
   },
   "file_extension": ".py",
   "mimetype": "text/x-python",
   "name": "python",
   "nbconvert_exporter": "python",
   "pygments_lexer": "ipython2",
   "version": "2.7.6"
  }
 },
 "nbformat": 4,
 "nbformat_minor": 0
}